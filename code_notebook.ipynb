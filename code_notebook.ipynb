{
  "nbformat": 4,
  "nbformat_minor": 0,
  "metadata": {
    "colab": {
      "name": "hw4.ipynb",
      "provenance": [],
      "collapsed_sections": []
    },
    "kernelspec": {
      "name": "python3",
      "display_name": "Python 3"
    }
  },
  "cells": [
    {
      "cell_type": "code",
      "metadata": {
        "id": "eHKc7coz-skp"
      },
      "source": [
        "import numpy as np\r\n",
        "import matplotlib.pyplot as plt\r\n",
        "import seaborn as sns\r\n",
        "import pandas as pd\r\n",
        "from sklearn.metrics import confusion_matrix"
      ],
      "execution_count": 1,
      "outputs": []
    },
    {
      "cell_type": "markdown",
      "metadata": {
        "id": "dQ5DyK-LM7bc"
      },
      "source": [
        "## Question 1 Solution"
      ]
    },
    {
      "cell_type": "code",
      "metadata": {
        "colab": {
          "base_uri": "https://localhost:8080/"
        },
        "id": "KBWZU8O0qait",
        "outputId": "6879e7cc-eb5a-40b9-b8f0-2a893014acb5"
      },
      "source": [
        "# read the optdigits data\r\n",
        "data_train = np.genfromtxt('/content/drive/MyDrive/data/optdigits.tra', \r\n",
        "                           delimiter=',')\r\n",
        "data_test = np.genfromtxt('/content/drive/MyDrive/data/optdigits.tes', \r\n",
        "                          delimiter=',')\r\n",
        "print(\"Training Data:\\n\", data_train)\r\n",
        "print(\"\\n\\nTest Data:\\n\", data_test)"
      ],
      "execution_count": 53,
      "outputs": [
        {
          "output_type": "stream",
          "text": [
            "Training Data:\n",
            " [[ 0.  1.  6. ...  0.  0.  0.]\n",
            " [ 0.  0. 10. ...  0.  0.  0.]\n",
            " [ 0.  0.  8. ...  0.  0.  7.]\n",
            " ...\n",
            " [ 0.  0.  3. ...  0.  0.  6.]\n",
            " [ 0.  0.  6. ...  5.  0.  6.]\n",
            " [ 0.  0.  2. ...  0.  0.  7.]]\n",
            "\n",
            "\n",
            "Test Data:\n",
            " [[ 0.  0.  5. ...  0.  0.  0.]\n",
            " [ 0.  0.  0. ...  0.  0.  1.]\n",
            " [ 0.  0.  0. ...  9.  0.  2.]\n",
            " ...\n",
            " [ 0.  0.  1. ...  0.  0.  8.]\n",
            " [ 0.  0.  2. ...  0.  0.  9.]\n",
            " [ 0.  0. 10. ...  1.  0.  8.]]\n"
          ],
          "name": "stdout"
        }
      ]
    },
    {
      "cell_type": "code",
      "metadata": {
        "id": "QbhwLKtvrhuD"
      },
      "source": [
        "# split the data as X_train, X_test, y_train, y_test\r\n",
        "X_train = data_train[:, :-1]\r\n",
        "y_train = data_train[:, -1]\r\n",
        "y_train = y_train.astype('int64')\r\n",
        "X_test = data_test[:, :-1]\r\n",
        "y_test = data_test[:, -1]\r\n",
        "y_test = y_test.astype('int64')"
      ],
      "execution_count": 3,
      "outputs": []
    },
    {
      "cell_type": "code",
      "metadata": {
        "id": "zuphtgF1x8Tv"
      },
      "source": [
        "# implement multivariate gaussian kernel with mahalanobis distance\n",
        "\n",
        "def gaussian_kernel(test_x, train_x, train_y):\n",
        "    \"\"\"train_y arguments can be given as list or numpy array objects while\n",
        "     train_x, train_y arguments have to be given as numpy array only.\"\"\"\n",
        "    \n",
        "    # calculation of training data covariance matrix:\n",
        "    S = (train_x - np.mean(train_x, axis=0)).T @ \\\n",
        "        (train_x - np.mean(train_x, axis=0)) / len(train_x)\n",
        "\n",
        "    # take the inverse of the covariance matrix to be used in calculation of K's\n",
        "    # in order speed-up the algorithm\n",
        "    S_inverse = np.linalg.pinv(S)\n",
        "\n",
        "    preds = []\n",
        "    for j in range(len(test_x)): # loop over the samples of test_x\n",
        "        g = []\n",
        "        for i in range(len(train_x)): # loop over the samples of train_x\n",
        "\n",
        "            # calculate the discriminants. Note that in the equation of K\n",
        "            # determinant of covariance matrix is equal to zero so, it is \n",
        "            # omitted. Also in the calculation of discriminant the common factor\n",
        "            # 1/(Nhd) is ignored.\n",
        "            K = 1 / ( ((2 * np.pi)**(len(train_x[i]) / 2)) ) * np.exp( (-0.5) \\\n",
        "                * ((test_x[j] - train_x[i]).T.dot(S_inverse)).dot((test_x[j] \\\n",
        "                                                                - train_x[i])) )\n",
        "            g.append(K)\n",
        "        # predict the test sample label based on the index of maximum \n",
        "        # discriminant\n",
        "        preds.append(train_y[np.argmax(g)]) \n",
        "    return preds # return the predicted labels for given test samples."
      ],
      "execution_count": 55,
      "outputs": []
    },
    {
      "cell_type": "markdown",
      "metadata": {
        "id": "xjTY5chsM_uc"
      },
      "source": [
        "## Question 2 Solution"
      ]
    },
    {
      "cell_type": "code",
      "metadata": {
        "id": "59pwam99hrpL"
      },
      "source": [
        "def accuracy_calc(actual, predicted):\r\n",
        "    \"\"\"Accuracy calculation function\"\"\"\r\n",
        "    correct = 0\r\n",
        "    for i in range(len(actual)):\r\n",
        "        if actual[i] == predicted[i]:\r\n",
        "            correct += 1\r\n",
        "    \r\n",
        "    return correct / float(len(actual)) * 100"
      ],
      "execution_count": 56,
      "outputs": []
    },
    {
      "cell_type": "code",
      "metadata": {
        "colab": {
          "base_uri": "https://localhost:8080/"
        },
        "id": "QRkZgzQsMWm3",
        "outputId": "bd923854-9ce3-42d7-9623-bad41907bf0b"
      },
      "source": [
        "# Make predictions for optdigits data by using multivariate gaussian kernel with\r\n",
        "# mahalanobis distance\r\n",
        "predictions = gaussian_kernel(X_test, X_train, y_train)\r\n",
        "accuracy = accuracy_calc(y_test, predictions)\r\n",
        "print('Accuracy: %.2f%%' % accuracy)"
      ],
      "execution_count": 57,
      "outputs": [
        {
          "output_type": "stream",
          "text": [
            "Accuracy: 92.93%\n"
          ],
          "name": "stdout"
        }
      ]
    },
    {
      "cell_type": "code",
      "metadata": {
        "colab": {
          "base_uri": "https://localhost:8080/",
          "height": 623
        },
        "id": "f3ay0fGsPZZo",
        "outputId": "b947a7ab-dc2f-40ed-c80d-35924a7eae97"
      },
      "source": [
        "# Confusion Matrix\r\n",
        "cm = confusion_matrix(y_test, predictions, labels=np.unique(y_test))\r\n",
        "plt.figure(figsize=(10, 10))\r\n",
        "plt.title('Confusion Matrix')\r\n",
        "sns.heatmap(cm,annot=True, fmt=\".1f\")\r\n",
        "plt.xlabel('Predicted')\r\n",
        "plt.xticks(rotation=45)\r\n",
        "plt.ylabel('Actual')\r\n",
        "plt.ioff()\r\n",
        "plt.show()"
      ],
      "execution_count": 58,
      "outputs": [
        {
          "output_type": "display_data",
          "data": {
            "image/png": "[encoded data removed]",
            "text/plain": [
              "<Figure size 720x720 with 2 Axes>"
            ]
          },
          "metadata": {
            "tags": [],
            "needs_background": "light"
          }
        }
      ]
    },
    {
      "cell_type": "markdown",
      "metadata": {
        "id": "OIDBFuEANbdO"
      },
      "source": [
        "## Question 3 Solution"
      ]
    },
    {
      "cell_type": "code",
      "metadata": {
        "id": "4Mxeu8tZ16_Q"
      },
      "source": [
        "def smoothed_gaussian_kernel(test_x, train_x, train_y, k):\n",
        "    \"\"\"train_y arguments can be given as list or numpy array objects while\n",
        "     train_x, train_y arguments have to be given as numpy array only. Number of\n",
        "     neighbors k must be given as an integer.\"\"\"\n",
        "    \n",
        "    # calculation of training data covariance matrix:\n",
        "    S = (train_x - np.mean(train_x, axis=0)).T @ \\\n",
        "        (train_x - np.mean(train_x, axis=0)) / len(train_x)\n",
        "\n",
        "    # take the inverse of the covariance matrix to be used in calculation of K's\n",
        "    # in order speed-up the algorithm\n",
        "    S_inverse = np.linalg.pinv(S)\n",
        "\n",
        "    preds = []\n",
        "    for j in range(len(test_x)): # loop over the samples of test_x\n",
        "        g = []\n",
        "        for i in range(len(train_x)): # loop over the samples of train_x\n",
        "\n",
        "            # calculate the discriminants. Note that in the equation of K\n",
        "            # determinant of covariance matrix is equal to zero so, it is \n",
        "            # omitted. Also in the calculation of discriminant the common factor\n",
        "            # 1/(Nhd) is ignored.\n",
        "            K = 1 / ( ((2 * np.pi)**(len(train_x[i]) / 2)) ) * np.exp( (-0.5) \\\n",
        "                * ((test_x[j] - train_x[i]).T.dot(S_inverse)).dot((test_x[j] \\\n",
        "                                                                - train_x[i])) )\n",
        "            g.append(K)\n",
        "        g = np.array(g)\n",
        "        idx = (-g).argsort()[:k] # get the indices of k maximum discriminants\n",
        "\n",
        "        # get labels of k maximum discriminants using the indices\n",
        "        predictions = train_y[idx] \n",
        "        # make a prediction based on the average value of found labels\n",
        "        preds.append(np.mean(predictions)) \n",
        "    return preds # return the prediction"
      ],
      "execution_count": 63,
      "outputs": []
    },
    {
      "cell_type": "markdown",
      "metadata": {
        "id": "Wbse44A_NpeF"
      },
      "source": [
        "## Question 4 Solution"
      ]
    },
    {
      "cell_type": "code",
      "metadata": {
        "colab": {
          "base_uri": "https://localhost:8080/",
          "height": 204
        },
        "id": "BvYwzv-EngX-",
        "outputId": "99ecda36-e234-4fd3-fdec-b3ab72abf0d0"
      },
      "source": [
        "# Read wineqaulity data\r\n",
        "df = pd.read_csv(\"/content/drive/MyDrive/data/winequality-red.csv\", \r\n",
        "                 delimiter=\";\")\r\n",
        "df.head()"
      ],
      "execution_count": 60,
      "outputs": [
        {
          "output_type": "execute_result",
          "data": {
            "text/html": [
              "<div>\n",
              "<style scoped>\n",
              "    .dataframe tbody tr th:only-of-type {\n",
              "        vertical-align: middle;\n",
              "    }\n",
              "\n",
              "    .dataframe tbody tr th {\n",
              "        vertical-align: top;\n",
              "    }\n",
              "\n",
              "    .dataframe thead th {\n",
              "        text-align: right;\n",
              "    }\n",
              "</style>\n",
              "<table border=\"1\" class=\"dataframe\">\n",
              "  <thead>\n",
              "    <tr style=\"text-align: right;\">\n",
              "      <th></th>\n",
              "      <th>fixed acidity</th>\n",
              "      <th>volatile acidity</th>\n",
              "      <th>citric acid</th>\n",
              "      <th>residual sugar</th>\n",
              "      <th>chlorides</th>\n",
              "      <th>free sulfur dioxide</th>\n",
              "      <th>total sulfur dioxide</th>\n",
              "      <th>density</th>\n",
              "      <th>pH</th>\n",
              "      <th>sulphates</th>\n",
              "      <th>alcohol</th>\n",
              "      <th>quality</th>\n",
              "    </tr>\n",
              "  </thead>\n",
              "  <tbody>\n",
              "    <tr>\n",
              "      <th>0</th>\n",
              "      <td>7.4</td>\n",
              "      <td>0.70</td>\n",
              "      <td>0.00</td>\n",
              "      <td>1.9</td>\n",
              "      <td>0.076</td>\n",
              "      <td>11.0</td>\n",
              "      <td>34.0</td>\n",
              "      <td>0.9978</td>\n",
              "      <td>3.51</td>\n",
              "      <td>0.56</td>\n",
              "      <td>9.4</td>\n",
              "      <td>5</td>\n",
              "    </tr>\n",
              "    <tr>\n",
              "      <th>1</th>\n",
              "      <td>7.8</td>\n",
              "      <td>0.88</td>\n",
              "      <td>0.00</td>\n",
              "      <td>2.6</td>\n",
              "      <td>0.098</td>\n",
              "      <td>25.0</td>\n",
              "      <td>67.0</td>\n",
              "      <td>0.9968</td>\n",
              "      <td>3.20</td>\n",
              "      <td>0.68</td>\n",
              "      <td>9.8</td>\n",
              "      <td>5</td>\n",
              "    </tr>\n",
              "    <tr>\n",
              "      <th>2</th>\n",
              "      <td>7.8</td>\n",
              "      <td>0.76</td>\n",
              "      <td>0.04</td>\n",
              "      <td>2.3</td>\n",
              "      <td>0.092</td>\n",
              "      <td>15.0</td>\n",
              "      <td>54.0</td>\n",
              "      <td>0.9970</td>\n",
              "      <td>3.26</td>\n",
              "      <td>0.65</td>\n",
              "      <td>9.8</td>\n",
              "      <td>5</td>\n",
              "    </tr>\n",
              "    <tr>\n",
              "      <th>3</th>\n",
              "      <td>11.2</td>\n",
              "      <td>0.28</td>\n",
              "      <td>0.56</td>\n",
              "      <td>1.9</td>\n",
              "      <td>0.075</td>\n",
              "      <td>17.0</td>\n",
              "      <td>60.0</td>\n",
              "      <td>0.9980</td>\n",
              "      <td>3.16</td>\n",
              "      <td>0.58</td>\n",
              "      <td>9.8</td>\n",
              "      <td>6</td>\n",
              "    </tr>\n",
              "    <tr>\n",
              "      <th>4</th>\n",
              "      <td>7.4</td>\n",
              "      <td>0.70</td>\n",
              "      <td>0.00</td>\n",
              "      <td>1.9</td>\n",
              "      <td>0.076</td>\n",
              "      <td>11.0</td>\n",
              "      <td>34.0</td>\n",
              "      <td>0.9978</td>\n",
              "      <td>3.51</td>\n",
              "      <td>0.56</td>\n",
              "      <td>9.4</td>\n",
              "      <td>5</td>\n",
              "    </tr>\n",
              "  </tbody>\n",
              "</table>\n",
              "</div>"
            ],
            "text/plain": [
              "   fixed acidity  volatile acidity  citric acid  ...  sulphates  alcohol  quality\n",
              "0            7.4              0.70         0.00  ...       0.56      9.4        5\n",
              "1            7.8              0.88         0.00  ...       0.68      9.8        5\n",
              "2            7.8              0.76         0.04  ...       0.65      9.8        5\n",
              "3           11.2              0.28         0.56  ...       0.58      9.8        6\n",
              "4            7.4              0.70         0.00  ...       0.56      9.4        5\n",
              "\n",
              "[5 rows x 12 columns]"
            ]
          },
          "metadata": {
            "tags": []
          },
          "execution_count": 60
        }
      ]
    },
    {
      "cell_type": "code",
      "metadata": {
        "colab": {
          "base_uri": "https://localhost:8080/"
        },
        "id": "bUTW4HfiNfbZ",
        "outputId": "183711c3-f7f1-413a-b059-0be0054cec21"
      },
      "source": [
        "# 1599 samples, 11 features\r\n",
        "df.shape"
      ],
      "execution_count": 61,
      "outputs": [
        {
          "output_type": "execute_result",
          "data": {
            "text/plain": [
              "(1599, 12)"
            ]
          },
          "metadata": {
            "tags": []
          },
          "execution_count": 61
        }
      ]
    },
    {
      "cell_type": "code",
      "metadata": {
        "colab": {
          "base_uri": "https://localhost:8080/"
        },
        "id": "2FFMAaujvO0e",
        "outputId": "3cc090bb-e3fd-46f6-d139-9570d00c8351"
      },
      "source": [
        "df.quality.value_counts()"
      ],
      "execution_count": 9,
      "outputs": [
        {
          "output_type": "execute_result",
          "data": {
            "text/plain": [
              "5    681\n",
              "6    638\n",
              "7    199\n",
              "4     53\n",
              "8     18\n",
              "3     10\n",
              "Name: quality, dtype: int64"
            ]
          },
          "metadata": {
            "tags": []
          },
          "execution_count": 9
        }
      ]
    },
    {
      "cell_type": "code",
      "metadata": {
        "id": "MZXaNB8evb38",
        "colab": {
          "base_uri": "https://localhost:8080/",
          "height": 204
        },
        "outputId": "cc3f80c8-11d6-45c8-ca43-62ec61865153"
      },
      "source": [
        "# data is randomly splitted as approximately for 70% training and 30% testing.\r\n",
        "\r\n",
        "df = df.sample(frac=1) # shuffle rows of dataframe \r\n",
        "train_data = df.iloc[:1120, :]\r\n",
        "test_data = df.iloc[1120:, :]\r\n",
        "train_data.head()"
      ],
      "execution_count": 28,
      "outputs": [
        {
          "output_type": "execute_result",
          "data": {
            "text/html": [
              "<div>\n",
              "<style scoped>\n",
              "    .dataframe tbody tr th:only-of-type {\n",
              "        vertical-align: middle;\n",
              "    }\n",
              "\n",
              "    .dataframe tbody tr th {\n",
              "        vertical-align: top;\n",
              "    }\n",
              "\n",
              "    .dataframe thead th {\n",
              "        text-align: right;\n",
              "    }\n",
              "</style>\n",
              "<table border=\"1\" class=\"dataframe\">\n",
              "  <thead>\n",
              "    <tr style=\"text-align: right;\">\n",
              "      <th></th>\n",
              "      <th>fixed acidity</th>\n",
              "      <th>volatile acidity</th>\n",
              "      <th>citric acid</th>\n",
              "      <th>residual sugar</th>\n",
              "      <th>chlorides</th>\n",
              "      <th>free sulfur dioxide</th>\n",
              "      <th>total sulfur dioxide</th>\n",
              "      <th>density</th>\n",
              "      <th>pH</th>\n",
              "      <th>sulphates</th>\n",
              "      <th>alcohol</th>\n",
              "      <th>quality</th>\n",
              "    </tr>\n",
              "  </thead>\n",
              "  <tbody>\n",
              "    <tr>\n",
              "      <th>1147</th>\n",
              "      <td>10.0</td>\n",
              "      <td>0.410</td>\n",
              "      <td>0.45</td>\n",
              "      <td>6.2</td>\n",
              "      <td>0.071</td>\n",
              "      <td>6.0</td>\n",
              "      <td>14.0</td>\n",
              "      <td>0.99702</td>\n",
              "      <td>3.21</td>\n",
              "      <td>0.49</td>\n",
              "      <td>11.8</td>\n",
              "      <td>7</td>\n",
              "    </tr>\n",
              "    <tr>\n",
              "      <th>267</th>\n",
              "      <td>7.9</td>\n",
              "      <td>0.350</td>\n",
              "      <td>0.46</td>\n",
              "      <td>3.6</td>\n",
              "      <td>0.078</td>\n",
              "      <td>15.0</td>\n",
              "      <td>37.0</td>\n",
              "      <td>0.99730</td>\n",
              "      <td>3.35</td>\n",
              "      <td>0.86</td>\n",
              "      <td>12.8</td>\n",
              "      <td>8</td>\n",
              "    </tr>\n",
              "    <tr>\n",
              "      <th>216</th>\n",
              "      <td>8.7</td>\n",
              "      <td>0.625</td>\n",
              "      <td>0.16</td>\n",
              "      <td>2.0</td>\n",
              "      <td>0.101</td>\n",
              "      <td>13.0</td>\n",
              "      <td>49.0</td>\n",
              "      <td>0.99620</td>\n",
              "      <td>3.14</td>\n",
              "      <td>0.57</td>\n",
              "      <td>11.0</td>\n",
              "      <td>5</td>\n",
              "    </tr>\n",
              "    <tr>\n",
              "      <th>1486</th>\n",
              "      <td>6.8</td>\n",
              "      <td>0.680</td>\n",
              "      <td>0.21</td>\n",
              "      <td>2.1</td>\n",
              "      <td>0.070</td>\n",
              "      <td>9.0</td>\n",
              "      <td>23.0</td>\n",
              "      <td>0.99546</td>\n",
              "      <td>3.38</td>\n",
              "      <td>0.60</td>\n",
              "      <td>10.3</td>\n",
              "      <td>5</td>\n",
              "    </tr>\n",
              "    <tr>\n",
              "      <th>215</th>\n",
              "      <td>7.0</td>\n",
              "      <td>0.490</td>\n",
              "      <td>0.49</td>\n",
              "      <td>5.6</td>\n",
              "      <td>0.060</td>\n",
              "      <td>26.0</td>\n",
              "      <td>121.0</td>\n",
              "      <td>0.99740</td>\n",
              "      <td>3.34</td>\n",
              "      <td>0.76</td>\n",
              "      <td>10.5</td>\n",
              "      <td>5</td>\n",
              "    </tr>\n",
              "  </tbody>\n",
              "</table>\n",
              "</div>"
            ],
            "text/plain": [
              "      fixed acidity  volatile acidity  citric acid  ...  sulphates  alcohol  quality\n",
              "1147           10.0             0.410         0.45  ...       0.49     11.8        7\n",
              "267             7.9             0.350         0.46  ...       0.86     12.8        8\n",
              "216             8.7             0.625         0.16  ...       0.57     11.0        5\n",
              "1486            6.8             0.680         0.21  ...       0.60     10.3        5\n",
              "215             7.0             0.490         0.49  ...       0.76     10.5        5\n",
              "\n",
              "[5 rows x 12 columns]"
            ]
          },
          "metadata": {
            "tags": []
          },
          "execution_count": 28
        }
      ]
    },
    {
      "cell_type": "code",
      "metadata": {
        "id": "2HyXv0lUK2OU"
      },
      "source": [
        "def split_to_folds(dataset, n_folds):\r\n",
        "    \"\"\"\"This function splits the data into n_folds.\"\"\"\r\n",
        "    # dataset argument must be given as numpy array and n_folds as integer.\r\n",
        "    from random import randrange\r\n",
        "    dataset_split = []\r\n",
        "    dataset_copy = list(dataset)\r\n",
        "    fold_size = len(dataset) / n_folds\r\n",
        "    for i in range(n_folds):\r\n",
        "        fold = []\r\n",
        "        while len(fold) < fold_size:\r\n",
        "            index = randrange(len(dataset_copy))\r\n",
        "            fold.append(dataset_copy.pop(index))\r\n",
        "        dataset_split.append(fold)\r\n",
        "    return dataset_split"
      ],
      "execution_count": 29,
      "outputs": []
    },
    {
      "cell_type": "code",
      "metadata": {
        "colab": {
          "base_uri": "https://localhost:8080/"
        },
        "id": "upZfuyZOK_rL",
        "outputId": "d418090d-e7c1-4b4a-a21c-ac36664f698c"
      },
      "source": [
        "def cross_validation(dataset, n_folds, k):\r\n",
        "    \"\"\"\"This function first uses split_to_folds function to split the data into\r\n",
        "    given number of folds. Later at each step one of the folds is taken as test\r\n",
        "    set and the others as training sets and mean absolute error is calculated.\r\n",
        "    \"\"\"\r\n",
        "    folds = split_to_folds(dataset, n_folds)\r\n",
        "    errors = []\r\n",
        "    for i in range(len(folds)):\r\n",
        "        train_set = folds.copy()\r\n",
        "        train_set.pop(i)\r\n",
        "        train_set = sum(train_set, [])\r\n",
        "        test_set = []\r\n",
        "        for row in folds[i]:\r\n",
        "            row_copy = list(row)\r\n",
        "            test_set.append(row_copy)\r\n",
        "\r\n",
        "        # make predictions using smoothed multivariate guassian kernel with\r\n",
        "        # mahallanobis distances\r\n",
        "        preds = smoothed_gaussian_kernel(np.array(test_set)[:, :-1], \r\n",
        "                                         np.array(train_set)[:, :-1], \r\n",
        "                                         np.array(train_set)[:, -1], k)\r\n",
        "        \r\n",
        "        # calculate the mean absolute error\r\n",
        "        mean_abs_error = sum(np.abs(np.array(test_set)[:, -1] - preds)) /\\\r\n",
        "         len(np.array(test_set)[:, -1])\r\n",
        "        errors.append(mean_abs_error) # append the errors to errors list\r\n",
        "    return errors # return the list of mean absolute errors.\r\n",
        "\r\n",
        "# number of neighbors is taken as 3\r\n",
        "errors = cross_validation(train_data.values, 5, k=3) \r\n",
        "errors\r\n",
        "# Mean absolute error for each folds is given in the output."
      ],
      "execution_count": 64,
      "outputs": [
        {
          "output_type": "execute_result",
          "data": {
            "text/plain": [
              "[0.5848214285714287,\n",
              " 0.5684523809523807,\n",
              " 0.5282738095238094,\n",
              " 0.5193452380952384,\n",
              " 0.4732142857142856]"
            ]
          },
          "metadata": {
            "tags": []
          },
          "execution_count": 64
        }
      ]
    },
    {
      "cell_type": "markdown",
      "metadata": {
        "id": "Yci2w5KPRqOl"
      },
      "source": [
        "## Question 5 Solution"
      ]
    },
    {
      "cell_type": "code",
      "metadata": {
        "id": "fD4egjI01bx0"
      },
      "source": [
        "error_list = np.zeros((10, 20, 5))\r\n",
        "# 10--> number of k's, 20--> number of seeds, \r\n",
        "# 5-->mean absolute error for each fold\r\n",
        "\r\n",
        "k_list = [1, 2, 4, 8, 16, 32, 64, 128, 256, 512] \r\n",
        "for j in range(20): # loop for 20 times \r\n",
        "    for i in range(len(k_list)): # loop for the number of elements in k_list\r\n",
        "\r\n",
        "        # calculate the mean absolute error of each fold for selected number \r\n",
        "        # of neighbors\r\n",
        "        errors = cross_validation(train_data.values, 5, k_list[i])\r\n",
        "\r\n",
        "        #  save absolute errors to error_list\r\n",
        "        error_list[i, j] = np.array(errors)"
      ],
      "execution_count": 77,
      "outputs": []
    },
    {
      "cell_type": "code",
      "metadata": {
        "id": "FtJPaz3hIxZS"
      },
      "source": [
        "# calculate the average absolute mean error for each used k in the algorithm\r\n",
        "average_errors = []\r\n",
        "standard_devs = []\r\n",
        "for i in range(len(k_list)):\r\n",
        "    average_errors.append(np.mean(error_list[i]))\r\n",
        "    standard_devs.append(np.std(error_list[i]))"
      ],
      "execution_count": 85,
      "outputs": []
    },
    {
      "cell_type": "code",
      "metadata": {
        "colab": {
          "base_uri": "https://localhost:8080/",
          "height": 333
        },
        "id": "hzOSstvvHQRh",
        "outputId": "e5809715-9a26-4cb8-fb46-43d10ab276a7"
      },
      "source": [
        "plt.errorbar(k_list, average_errors, yerr=standard_devs, fmt='-o');\r\n",
        "plt.xlabel(\"Neighbor Size k\")\r\n",
        "plt.ylabel(\"Average Mean Absolute Error\")\r\n",
        "plt.title(\"Smoother\")\r\n",
        "plt.legend([\"error-bar\"])\r\n",
        "plt.xscale('log')\r\n",
        "plt.figure(figsize=(10, 10))"
      ],
      "execution_count": 93,
      "outputs": [
        {
          "output_type": "execute_result",
          "data": {
            "text/plain": [
              "<Figure size 720x720 with 0 Axes>"
            ]
          },
          "metadata": {
            "tags": []
          },
          "execution_count": 93
        },
        {
          "output_type": "display_data",
          "data": {
            "image/png": "[encoded data removed]",
            "text/plain": [
              "<Figure size 432x288 with 1 Axes>"
            ]
          },
          "metadata": {
            "tags": [],
            "needs_background": "light"
          }
        },
        {
          "output_type": "display_data",
          "data": {
            "text/plain": [
              "<Figure size 720x720 with 0 Axes>"
            ]
          },
          "metadata": {
            "tags": []
          }
        }
      ]
    },
    {
      "cell_type": "markdown",
      "metadata": {
        "id": "VUFsD4xnglb9"
      },
      "source": [
        "When k is equal to 1 it gives the lowest mean absolute error. So for the test data we use k=1."
      ]
    },
    {
      "cell_type": "code",
      "metadata": {
        "colab": {
          "base_uri": "https://localhost:8080/"
        },
        "id": "UDo4eSo7gzXd",
        "outputId": "e8d9bb9b-8ee4-4ac6-cbb3-4cba8b1a1346"
      },
      "source": [
        "# k is selected as 1 in for the test data:\r\n",
        "preds = smoothed_gaussian_kernel(test_data.values[:, :-1], \r\n",
        "                    train_data.values[:, :-1], train_data.values[:, -1], k=1)\r\n",
        "mean_abs_error = sum(test_data.values[:, -1] - preds) / \\\r\n",
        "                                                len(test_data.values[:, -1])\r\n",
        "mean_abs_error"
      ],
      "execution_count": 97,
      "outputs": [
        {
          "output_type": "execute_result",
          "data": {
            "text/plain": [
              "0.014613778705636743"
            ]
          },
          "metadata": {
            "tags": []
          },
          "execution_count": 97
        }
      ]
    }
  ]
}